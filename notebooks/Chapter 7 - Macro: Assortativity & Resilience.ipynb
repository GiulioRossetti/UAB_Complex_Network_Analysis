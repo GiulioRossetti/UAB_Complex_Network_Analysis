{
 "cells": [
  {
   "cell_type": "markdown",
   "metadata": {},
   "source": [
    "<span>\n",
    "<b>Author:</b> <a href=\"http://about.giuliorossetti.net\">Giulio Rossetti</a><br/>\n",
    "<b>Python version:</b>  >=3.7<br/>\n",
    "<b>Networkx version:</b>  >=2.3<br/>\n",
    "<b>Last update:</b> 24/02/2021\n",
    "</span>\n",
    "\n",
    "<a id='top'></a>\n",
    "# *Chapter 7: Macro: Assortativity & Resilience*\n",
    "\n",
    "In this notebook are introduced some of the main analysis discussed in lecture 7.\n",
    "\n",
    "**Note:** this notebook is purposely not 100% comprehensive, it only discusses the basic things you need to get started. "
   ]
  },
  {
   "cell_type": "code",
   "execution_count": 1,
   "metadata": {},
   "outputs": [],
   "source": [
    "import networkx as nx\n",
    "import pandas as pd\n",
    "import matplotlib.pyplot as plt\n",
    "import numpy as np\n",
    "\n",
    "%matplotlib inline"
   ]
  },
  {
   "cell_type": "markdown",
   "metadata": {},
   "source": [
    "Reading Game of Thrones Season 6 edge data and defining the graph g (useful for further operations)"
   ]
  },
  {
   "cell_type": "code",
   "execution_count": 2,
   "metadata": {},
   "outputs": [],
   "source": [
    "def read_net_w(filename):\n",
    "    g = nx.Graph()\n",
    "    with open(filename) as f:\n",
    "        f.readline()\n",
    "        for l in f:\n",
    "            l = l.split(\",\")\n",
    "            g.add_edge(l[0], l[1], weight=int(l[2]))\n",
    "    return g\n",
    "\n",
    "# Game of Thrones data\n",
    "season = 6\n",
    "g = read_net_w(f'data/asioaf/got-s{season}-edges.csv')\n",
    "\n",
    "houses = {}\n",
    "with open(f'data/asioaf/got-s{season}-nodes_ext.csv') as f:\n",
    "    f.readline()\n",
    "    for l in f:\n",
    "        node, _, house = l.rstrip().split(\",\")\n",
    "        g.add_node(node, house=house)"
   ]
  },
  {
   "cell_type": "markdown",
   "metadata": {},
   "source": [
    "## Assortative Mixing\n",
    "\n",
    "**Homophily** Property of (social) networks that nodes of the same attitude tends to be connected with\n",
    "a higher probability than expected\n",
    "\n",
    "It appears as correlation between vertex properties of x(i) and x(j) if (i,j) ∈ E\n",
    "\n",
    "\n",
    "**Disassortative mixing:**\n",
    "Contrary of homophily: dissimilar nodes tend to be connected \n",
    "(e.g., sexual networks, predator-prey)"
   ]
  },
  {
   "cell_type": "markdown",
   "metadata": {},
   "source": [
    "### Network wide (global) Assortativity measures"
   ]
  },
  {
   "cell_type": "markdown",
   "metadata": {},
   "source": [
    "#### Newman's Assortativity\n",
    "\n",
    "Quantify homophily while scalar node properties are involved (e.g., degree)\n",
    "\n",
    "*Degree assortative*\n",
    "- Nodes tends to connect homogeneously w.r.t. their degree (e.g., hubs with hubs)\n",
    "\n",
    "*Degree disassortative*\n",
    "- Nodes tends to connect in a star-like topology\n"
   ]
  },
  {
   "cell_type": "code",
   "execution_count": 3,
   "metadata": {},
   "outputs": [
    {
     "data": {
      "text/plain": [
       "-0.006283179316286868"
      ]
     },
     "execution_count": 3,
     "metadata": {},
     "output_type": "execute_result"
    }
   ],
   "source": [
    "nx.degree_assortativity_coefficient(g)"
   ]
  },
  {
   "cell_type": "markdown",
   "metadata": {},
   "source": [
    "#### KNNK\n",
    "\n",
    "*What's the expected neighbors' degree of a node given its degree?*"
   ]
  },
  {
   "cell_type": "code",
   "execution_count": 4,
   "metadata": {},
   "outputs": [],
   "source": [
    "knn = nx.average_degree_connectivity(g) #calculate the average nearest neighbor degree of nodes with degree k.\n",
    "knn = dict(sorted(knn.items()))"
   ]
  },
  {
   "cell_type": "code",
   "execution_count": 5,
   "metadata": {},
   "outputs": [
    {
     "data": {
      "image/png": "[encoded data removed]",
      "text/plain": [
       "<Figure size 432x288 with 1 Axes>"
      ]
     },
     "metadata": {
      "needs_background": "light"
     },
     "output_type": "display_data"
    }
   ],
   "source": [
    "plt.plot(list(knn.keys()), list(knn.values()), '.', ms=10, alpha=0.8)\n",
    "plt.loglog()\n",
    "plt.xlabel(\"k\", fontsize=20)\n",
    "plt.ylabel(\"k_nn(k)\",fontsize=18)\n",
    "plt.xticks(fontsize=15)\n",
    "plt.yticks(fontsize=15)\n",
    "plt.show()"
   ]
  },
  {
   "cell_type": "markdown",
   "metadata": {},
   "source": [
    "#### Newman Assortativity on node properties\n",
    "\n",
    "Same as the standard Newman's assortativity but computed on semantic information attached to nodes (e.g., labels)"
   ]
  },
  {
   "cell_type": "code",
   "execution_count": 6,
   "metadata": {},
   "outputs": [
    {
     "data": {
      "text/plain": [
       "0.20747480547396627"
      ]
     },
     "execution_count": 6,
     "metadata": {},
     "output_type": "execute_result"
    }
   ],
   "source": [
    "nx.attribute_assortativity_coefficient(g, 'house')"
   ]
  },
  {
   "cell_type": "markdown",
   "metadata": {},
   "source": [
    "## Network Resilience\n",
    "In the following we:\n",
    "- generate Random and Scale-free Network\n",
    "- compute Reslience for both Networks (through molloy_reed and breakdown_threshold)\n",
    "- plot Game of Thrones graph Resilience under Random Failure and Targeted Attacks"
   ]
  },
  {
   "cell_type": "markdown",
   "metadata": {},
   "source": [
    "Generating Networks"
   ]
  },
  {
   "cell_type": "code",
   "execution_count": 7,
   "metadata": {},
   "outputs": [],
   "source": [
    "# Random\n",
    "er = nx.erdos_renyi_graph(1000, 0.001)\n",
    "# Scale-free\n",
    "ba = nx.barabasi_albert_graph(1000, 2)"
   ]
  },
  {
   "cell_type": "markdown",
   "metadata": {},
   "source": [
    "Computing node degree for both ER and BA Networks"
   ]
  },
  {
   "cell_type": "code",
   "execution_count": 8,
   "metadata": {},
   "outputs": [],
   "source": [
    "er_degs = list(dict(er.degree()).values())\n",
    "ba_degs = list(dict(ba.degree()).values())"
   ]
  },
  {
   "cell_type": "markdown",
   "metadata": {},
   "source": [
    "Defining Molloy-Reed threshold"
   ]
  },
  {
   "cell_type": "code",
   "execution_count": 9,
   "metadata": {},
   "outputs": [],
   "source": [
    "def molloy_reed(degrees):\n",
    "    return (np.mean(degrees)*(np.mean(degrees)+1))/np.mean(degrees)\n",
    "\n",
    "def breakdown_threshold(degrees):\n",
    "    K = molloy_reed(degrees)\n",
    "    return 1 - (1/(K-1))"
   ]
  },
  {
   "cell_type": "markdown",
   "metadata": {},
   "source": [
    "Random network"
   ]
  },
  {
   "cell_type": "code",
   "execution_count": 10,
   "metadata": {},
   "outputs": [
    {
     "data": {
      "text/plain": [
       "2.072"
      ]
     },
     "execution_count": 10,
     "metadata": {},
     "output_type": "execute_result"
    }
   ],
   "source": [
    "molloy_reed(er_degs)"
   ]
  },
  {
   "cell_type": "code",
   "execution_count": 11,
   "metadata": {},
   "outputs": [
    {
     "data": {
      "text/plain": [
       "0.0671641791044777"
      ]
     },
     "execution_count": 11,
     "metadata": {},
     "output_type": "execute_result"
    }
   ],
   "source": [
    "breakdown_threshold(er_degs)"
   ]
  },
  {
   "cell_type": "markdown",
   "metadata": {},
   "source": [
    "Scale-free network"
   ]
  },
  {
   "cell_type": "code",
   "execution_count": 12,
   "metadata": {},
   "outputs": [
    {
     "data": {
      "text/plain": [
       "4.992"
      ]
     },
     "execution_count": 12,
     "metadata": {},
     "output_type": "execute_result"
    }
   ],
   "source": [
    "molloy_reed(ba_degs)"
   ]
  },
  {
   "cell_type": "code",
   "execution_count": 13,
   "metadata": {},
   "outputs": [
    {
     "data": {
      "text/plain": [
       "0.7494989979959921"
      ]
     },
     "execution_count": 13,
     "metadata": {},
     "output_type": "execute_result"
    }
   ],
   "source": [
    "breakdown_threshold(ba_degs)"
   ]
  },
  {
   "cell_type": "markdown",
   "metadata": {},
   "source": [
    "### Random Failures"
   ]
  },
  {
   "cell_type": "code",
   "execution_count": 14,
   "metadata": {},
   "outputs": [],
   "source": [
    "def random_node(g): # select a random node from graph\n",
    "    return [np.random.choice(g.nodes())]\n",
    "\n",
    "def dismantle(g, function, **args): # incrementally removes node from a graph and computes size of connected components\n",
    "    total_nodes = g.number_of_nodes()\n",
    "    removed_nodes = []\n",
    "    components = []\n",
    "    while len(g.nodes()) > 1:\n",
    "        n = function(g, **args)[0]\n",
    "        g.remove_node(n)\n",
    "        removed_nodes.append((len(removed_nodes)+1)/total_nodes)\n",
    "        comps = list(nx.connected_components(g))\n",
    "        g_size = 0\n",
    "        if len(comps)>0:\n",
    "            g_size  = max([len(c)for c in comps])/total_nodes\n",
    "        components.append(g_size)\n",
    "    return removed_nodes, components\n",
    "\n",
    "def get_sorted_nodes(g, score, reverse=True): # sort nodes\n",
    "    nodes = score(g)\n",
    "    if isinstance(nodes, dict):\n",
    "        nodes = [(k, v) for k, v in nodes.items()]\n",
    "    srt = sorted(nodes, key = lambda k: k[1], reverse = reverse)\n",
    "    return [x[0] for x in srt]\n",
    "\n",
    "def plot_dismantle(x, y):\n",
    "    plt.plot(x, y)\n",
    "    plt.xlabel(\"Removed Nodes\")\n",
    "    plt.ylabel(\"Giant Component size\")\n",
    "    plt.show()"
   ]
  },
  {
   "cell_type": "markdown",
   "metadata": {},
   "source": [
    "Random Failure:\n",
    "- Giant component size has a consistent decrease when a big fraction of nodes is removed"
   ]
  },
  {
   "cell_type": "code",
   "execution_count": 15,
   "metadata": {},
   "outputs": [
    {
     "data": {
      "image/png": "[encoded data removed]",
      "text/plain": [
       "<Figure size 432x288 with 1 Axes>"
      ]
     },
     "metadata": {
      "needs_background": "light"
     },
     "output_type": "display_data"
    }
   ],
   "source": [
    "h = g.copy()\n",
    "rn, comps = dismantle(h, random_node)\n",
    "plot_dismantle(rn, comps)"
   ]
  },
  {
   "cell_type": "markdown",
   "metadata": {},
   "source": [
    "### Targeted Attacks"
   ]
  },
  {
   "cell_type": "markdown",
   "metadata": {},
   "source": [
    "Targeted Node attack (hubs are removed first)\n",
    "- Giant component size has a consistent decrease when a small fraction of nodes is removed"
   ]
  },
  {
   "cell_type": "code",
   "execution_count": 16,
   "metadata": {},
   "outputs": [
    {
     "data": {
      "image/png": "[encoded data removed]",
      "text/plain": [
       "<Figure size 432x288 with 1 Axes>"
      ]
     },
     "metadata": {
      "needs_background": "light"
     },
     "output_type": "display_data"
    }
   ],
   "source": [
    "h = g.copy()\n",
    "rn, comps = dismantle(h, get_sorted_nodes, score=nx.degree)\n",
    "plot_dismantle(rn, comps)"
   ]
  },
  {
   "cell_type": "markdown",
   "metadata": {},
   "source": [
    "Targeted Edge Attack (based on Edge Betweenness Centrality)\n",
    "- Giant component size has a consistent decrease when a small fraction of nodes is removed"
   ]
  },
  {
   "cell_type": "code",
   "execution_count": 17,
   "metadata": {},
   "outputs": [
    {
     "data": {
      "image/png": "[encoded data removed]",
      "text/plain": [
       "<Figure size 432x288 with 1 Axes>"
      ]
     },
     "metadata": {
      "needs_background": "light"
     },
     "output_type": "display_data"
    }
   ],
   "source": [
    "h = g.copy()\n",
    "rn, comps = dismantle(h, get_sorted_nodes, score=nx.betweenness_centrality)\n",
    "plot_dismantle(rn, comps)"
   ]
  },
  {
   "cell_type": "markdown",
   "metadata": {},
   "source": [
    "Targeted Edge Attack (based on Edge Harmonic Centrality)\n",
    "- Giant component size has a consistent decrease when a small fraction of nodes is removed"
   ]
  },
  {
   "cell_type": "code",
   "execution_count": 18,
   "metadata": {},
   "outputs": [
    {
     "data": {
      "image/png": "[encoded data removed]",
      "text/plain": [
       "<Figure size 432x288 with 1 Axes>"
      ]
     },
     "metadata": {
      "needs_background": "light"
     },
     "output_type": "display_data"
    }
   ],
   "source": [
    "h = g.copy()\n",
    "rn, comps = dismantle(h, get_sorted_nodes, score=nx.harmonic_centrality)\n",
    "plot_dismantle(rn, comps)"
   ]
  },
  {
   "cell_type": "code",
   "execution_count": null,
   "metadata": {},
   "outputs": [],
   "source": []
  }
 ],
 "metadata": {
  "kernelspec": {
   "display_name": "Python 3 (ipykernel)",
   "language": "python",
   "name": "python3"
  },
  "language_info": {
   "codemirror_mode": {
    "name": "ipython",
    "version": 3
   },
   "file_extension": ".py",
   "mimetype": "text/x-python",
   "name": "python",
   "nbconvert_exporter": "python",
   "pygments_lexer": "ipython3",
   "version": "3.9.7"
  }
 },
 "nbformat": 4,
 "nbformat_minor": 4
}
