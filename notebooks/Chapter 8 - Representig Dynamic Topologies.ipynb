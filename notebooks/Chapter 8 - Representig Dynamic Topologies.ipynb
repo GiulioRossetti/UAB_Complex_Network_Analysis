{
 "cells": [
  {
   "cell_type": "markdown",
   "metadata": {},
   "source": [
    "<span>\n",
    "<img src=\"img/dynetx.png\" width=\"220px\" align=\"right\"/>\n",
    "</span>\n",
    "<span>\n",
    "<b>Author:</b> <a href=\"http://about.giuliorossetti.net\">Giulio Rossetti</a><br/>\n",
    "<b>Python version:</b>  >=3.6<br/>\n",
    "<b>DyNetX version:</b>  0.0.1<br/>\n",
    "<b>Last update:</b> 15/02/2021\n",
    "</span>"
   ]
  },
  {
   "cell_type": "markdown",
   "metadata": {},
   "source": [
    "<a id='top'></a>\n",
    "# *Chapter 8: Representing Dynamic Topologies*\n",
    "\n",
    "In this notebook are introduced basilar snippet to cover dynamic networ modeling and analysis.\n",
    "\n",
    "**Note:** this notebook is purposely not 100% comprehensive, it only discusses the basic things you need to get started. "
   ]
  },
  {
   "cell_type": "markdown",
   "metadata": {},
   "source": [
    "<a id=\"dynetx\"></a>\n",
    "## DyNetX: a library for dynamic network modeling \n",
    "\n",
    "So far we assumed that a *static* network topology. In real world scenario it is likely to observe nodes (as well as edges) that appear and desapear as time goes by, deeply affecting network structure and connectivity.\n",
    "\n",
    "Indeed, topological transformations have huge implications on how diffusive phenomena unfold. \n",
    "\n",
    "[``DyNetx``](http://dynetx.readthedocs.io/en/latest/) model time-evolving graphs. In the following we briefly introduce some [``DyNetx``](http://dynetx.readthedocs.io/en/latest/) primitives that allows to build and analyse dynamic networks.\n",
    "\n",
    "A dynamic network is a topology having timestamps attached to edges (and/or nodes). As an example:"
   ]
  },
  {
   "cell_type": "markdown",
   "metadata": {},
   "source": [
    "<img src=\"img/rete.png\" width=\"50%\" align=\"center\"/>"
   ]
  },
  {
   "cell_type": "markdown",
   "metadata": {},
   "source": [
    "[``DyNetx``](http://dynetx.readthedocs.io/en/latest/) is a Python software package that extends [``networkx``](https://networkx.github.io) with dynamic network models and algorithms.\n",
    "\n",
    "We developed [``DyNetx``](http://dynetx.readthedocs.io/en/latest/) as a support library for ``NDlib``. It provides a generic implementation of dynamic network topology that can be used to model directed/undirected\n",
    "- [Snapshot Graphs](#snapshots)\n",
    "- [Interaction Networks](#interactions)"
   ]
  },
  {
   "cell_type": "code",
   "execution_count": null,
   "metadata": {},
   "outputs": [],
   "source": [
    "!pip install dynetx"
   ]
  },
  {
   "cell_type": "markdown",
   "metadata": {},
   "source": [
    "<a id=\"snapshots\"></a>\n",
    "#### Snapshot Graphs ([to top](#top))\n",
    "\n",
    "Often, network history is partitioned into a series of snap- shots, each one of them corresponding either to the state of the network at a time $t$ or to the aggregation of observed interactions during a period. Formally,\n",
    "\n",
    "> A ``Snapshot Graph`` $G_t$ is defined by a temporally ordered set $⟨G_1, G_2\\dots G_t⟩$ of static graphs where each snapshot $G_i = (V_i, E_i)$ is univocally identified by the sets of nodes $V_i$ and edges $E_i$.\n",
    "\n",
    "Network snapshots can be effectively used, for instance, to model a phenomenon that generates network perturbations (almost) at regular intervals. In this scenario, context-dependent temporal windows are used to partition the network history into consecutive snapshots: time-bounded observations describing a precise, static, discretization of the network life.\n",
    "\n",
    "Considering our dynamic network example we can identify the following snapshot graphs:\n",
    "\n",
    "<img src=\"img/ex1.png\" width=\"35%\" align=\"left\"/><img src=\"img/ex2.png\" width=\"25%\" align=\"left\"/><img src=\"img/ex3.png\" width=\"35%\" align=\"left\"/>\n",
    "\n",
    "[``DyNetx``](http://dynetx.readthedocs.io/en/latest/) allows to (among the other things):\n",
    "- List the snapshots of the loaded graph"
   ]
  },
  {
   "cell_type": "markdown",
   "metadata": {},
   "source": [
    "<a id=\"interactions\"></a>\n",
    "#### Interaction networks ([to top](#top))\n",
    "\n",
    "An ``Interaction network`` models a dynamic structure in which both nodes and edges may appear and disappear as time goes by. Usually, ``Intercation network`` are used in absence of a clear aggregation time scale, or when make sense to analyse a dynamic networok as a continuos stream of edges. Formally,\n",
    "\n",
    "> An ``interaction network`` is a graph $G = (V, E, T)$ where: $V$ is a set of triplets of the form $(v, t_s, t_e)$, with $v$ a vertex of the graph and $t_s$, $t_e \\in T$ are respectively the birth and death timestamps of the corresponding vertex (with $t_s \\leq t_e$); $E$ is a set of quadruplets $(u, v, t_s, t_e)$, with $u, v \\in V$ are vertices of the graph and $t_s,t_e \\in T$ are respectively the birth and death timestamps of the corresponding edge (with $t_s \\leq t_e$).\n",
    "\n",
    "Considering our dynamic network example we can identify the following interaction stream:\n",
    "\n",
    "<img src=\"img/ex4.png\"  />\n",
    "\n",
    "[``DyNetx``](http://dynetx.readthedocs.io/en/latest/) allows to to obtain the edge stream of a given dynamic graph."
   ]
  },
  {
   "cell_type": "code",
   "execution_count": 1,
   "metadata": {},
   "outputs": [],
   "source": [
    "import dynetx as dn\n",
    "import networkx as nx\n",
    "import random\n",
    "\n",
    "def read_net(filename):\n",
    "    g = nx.Graph()\n",
    "    with open(filename) as f:\n",
    "        f.readline()\n",
    "        for l in f:\n",
    "            l = l.split(\",\")\n",
    "            g.add_edge(l[0], l[1])\n",
    "    return g\n",
    "\n",
    "g = dn.DynGraph() # empty dynamic graph"
   ]
  },
  {
   "cell_type": "markdown",
   "metadata": {},
   "source": [
    "## Dynamic network creation\n",
    "\n",
    "A dynamic network can be built by adding edges with specific appearence time (and eventually, vanishing time).\n",
    "\n",
    "In our example, 10 ER graphs are generated and used to represent different topological evolutions of a same dynamic system."
   ]
  },
  {
   "cell_type": "code",
   "execution_count": 2,
   "metadata": {},
   "outputs": [],
   "source": [
    "for t in range(1, 9):\n",
    "    er = read_net(f'data/asioaf/got-s{t}-edges.csv')#nx.erdos_renyi_graph(random.randint(100, 400), 0.05)\n",
    "    g.add_interactions_from(er.edges, t=t)"
   ]
  },
  {
   "cell_type": "markdown",
   "metadata": {},
   "source": [
    "We can get the list of snapshot ids with"
   ]
  },
  {
   "cell_type": "code",
   "execution_count": 3,
   "metadata": {},
   "outputs": [
    {
     "data": {
      "text/plain": [
       "[1, 2, 3, 4, 5, 6, 7, 8]"
      ]
     },
     "execution_count": 3,
     "metadata": {},
     "output_type": "execute_result"
    }
   ],
   "source": [
    "g.temporal_snapshots_ids()"
   ]
  },
  {
   "cell_type": "markdown",
   "metadata": {},
   "source": [
    "Moreover, we can access each snapshot by its id"
   ]
  },
  {
   "cell_type": "code",
   "execution_count": 4,
   "metadata": {},
   "outputs": [],
   "source": [
    "g1 = g.time_slice(1)"
   ]
  },
  {
   "cell_type": "code",
   "execution_count": 5,
   "metadata": {},
   "outputs": [
    {
     "data": {
      "text/plain": [
       "(dynetx.classes.dyngraph.DynGraph, 126, 549)"
      ]
     },
     "execution_count": 5,
     "metadata": {},
     "output_type": "execute_result"
    }
   ],
   "source": [
    "type(g1), g1.number_of_nodes(), g1.number_of_edges()"
   ]
  },
  {
   "cell_type": "markdown",
   "metadata": {},
   "source": [
    "Following the same rationale it is possible to obtain timeslices covering any time window"
   ]
  },
  {
   "cell_type": "code",
   "execution_count": 6,
   "metadata": {},
   "outputs": [],
   "source": [
    "g0_3 = g.time_slice(0, 3)"
   ]
  },
  {
   "cell_type": "code",
   "execution_count": 7,
   "metadata": {},
   "outputs": [
    {
     "data": {
      "text/plain": [
       "(dynetx.classes.dyngraph.DynGraph, 237, 1182, {1: 78.5, 2: 79.0})"
      ]
     },
     "execution_count": 7,
     "metadata": {},
     "output_type": "execute_result"
    }
   ],
   "source": [
    "type(g0_3), g0_3.number_of_nodes(), g0_3.number_of_edges(), g0_3.interactions_per_snapshots()"
   ]
  },
  {
   "cell_type": "markdown",
   "metadata": {},
   "source": [
    "If the slice cover a single snapshot it can be analyzed transforming it in a ``networkx`` object, otherwise ``dynetx`` methods need to be applied"
   ]
  },
  {
   "cell_type": "code",
   "execution_count": 8,
   "metadata": {},
   "outputs": [],
   "source": [
    "g1_flat = nx.Graph(g1.edges())"
   ]
  },
  {
   "cell_type": "code",
   "execution_count": 9,
   "metadata": {},
   "outputs": [
    {
     "data": {
      "text/plain": [
       "(networkx.classes.graph.Graph, 126, 549)"
      ]
     },
     "execution_count": 9,
     "metadata": {},
     "output_type": "execute_result"
    }
   ],
   "source": [
    "type(g1_flat), g1_flat.number_of_nodes(), g1_flat.number_of_edges()"
   ]
  },
  {
   "cell_type": "markdown",
   "metadata": {},
   "source": [
    "### Dynamic network measures"
   ]
  },
  {
   "cell_type": "markdown",
   "metadata": {},
   "source": [
    "#### Inter event time (Global)\n",
    "\n",
    "Distribution of inter event time (e.g., how much time before a new interaction appears in the graph)"
   ]
  },
  {
   "cell_type": "code",
   "execution_count": 10,
   "metadata": {},
   "outputs": [
    {
     "name": "stdout",
     "output_type": "stream",
     "text": [
      "Number interactions: temporal distance\t{0: 3307, 1: 8}\n"
     ]
    }
   ],
   "source": [
    "r = g.inter_event_time_distribution()\n",
    "print(f\"Number interactions: temporal distance\\t{r}\")"
   ]
  },
  {
   "cell_type": "markdown",
   "metadata": {},
   "source": [
    "#### Inter event time (Node)\n",
    "\n",
    "Distribution of inter event time (e.g., how much time before a new interaction involving a specific node appears in the graph)"
   ]
  },
  {
   "cell_type": "code",
   "execution_count": 11,
   "metadata": {},
   "outputs": [
    {
     "name": "stdout",
     "output_type": "stream",
     "text": [
      "Number interactions: temporal distance\t{0: 137, 1: 8}\n"
     ]
    }
   ],
   "source": [
    "r = g.inter_event_time_distribution(\"ARYA\")\n",
    "print(f\"Number interactions: temporal distance\\t{r}\")"
   ]
  },
  {
   "cell_type": "markdown",
   "metadata": {},
   "source": [
    "#### Inter event time (Edge)\n",
    "\n",
    "Distribution of inter event time (e.g., how much time before a new interaction among two nodes, u and v, appears in the graph)"
   ]
  },
  {
   "cell_type": "code",
   "execution_count": 49,
   "metadata": {},
   "outputs": [],
   "source": [
    "u = 'JON'\n",
    "v = 'ARYA'"
   ]
  },
  {
   "cell_type": "code",
   "execution_count": 50,
   "metadata": {},
   "outputs": [
    {
     "name": "stdout",
     "output_type": "stream",
     "text": [
      "Number interactions: temporal distance\t{6: 1, 1: 1}\n"
     ]
    }
   ],
   "source": [
    "r = g.inter_event_time_distribution(u, v)\n",
    "print(f\"Number interactions: temporal distance\\t{r}\")"
   ]
  },
  {
   "cell_type": "markdown",
   "metadata": {},
   "source": [
    "### Degree\n",
    "Degrees can be queried time-wise"
   ]
  },
  {
   "cell_type": "code",
   "execution_count": 51,
   "metadata": {},
   "outputs": [
    {
     "data": {
      "text/plain": [
       "27"
      ]
     },
     "execution_count": 51,
     "metadata": {},
     "output_type": "execute_result"
    }
   ],
   "source": [
    "g.degree(t=2)['ARYA'] # degree of node 0 at time t=2"
   ]
  },
  {
   "cell_type": "markdown",
   "metadata": {},
   "source": [
    "### Coverage\n",
    "\n",
    "The ratio of existing nodes w.r.t. the possible ones."
   ]
  },
  {
   "cell_type": "code",
   "execution_count": 52,
   "metadata": {},
   "outputs": [
    {
     "data": {
      "text/plain": [
       "0.2977216748768473"
      ]
     },
     "execution_count": 52,
     "metadata": {},
     "output_type": "execute_result"
    }
   ],
   "source": [
    "g.coverage()"
   ]
  },
  {
   "cell_type": "markdown",
   "metadata": {},
   "source": [
    "#### Node contribution\n",
    "\n",
    "Node u coverage of the temporal graph."
   ]
  },
  {
   "cell_type": "code",
   "execution_count": 53,
   "metadata": {},
   "outputs": [
    {
     "data": {
      "text/plain": [
       "0.625"
      ]
     },
     "execution_count": 53,
     "metadata": {},
     "output_type": "execute_result"
    }
   ],
   "source": [
    "g.node_contribution(\"BERIC\")"
   ]
  },
  {
   "cell_type": "markdown",
   "metadata": {},
   "source": [
    "#### Edge contribution\n",
    "\n",
    "Edge (u, v) coverage of the temporal graph."
   ]
  },
  {
   "cell_type": "code",
   "execution_count": 54,
   "metadata": {},
   "outputs": [
    {
     "data": {
      "text/plain": [
       "0.375"
      ]
     },
     "execution_count": 54,
     "metadata": {},
     "output_type": "execute_result"
    }
   ],
   "source": [
    "g.edge_contribution(u, v)"
   ]
  },
  {
   "cell_type": "markdown",
   "metadata": {},
   "source": [
    "#### Node pair uniformity\n",
    "\n",
    "Overlap between the presence times of u and v."
   ]
  },
  {
   "cell_type": "code",
   "execution_count": 55,
   "metadata": {},
   "outputs": [
    {
     "data": {
      "text/plain": [
       "1.0"
      ]
     },
     "execution_count": 55,
     "metadata": {},
     "output_type": "execute_result"
    }
   ],
   "source": [
    "g.node_pair_uniformity(u, v)"
   ]
  },
  {
   "cell_type": "markdown",
   "metadata": {},
   "source": [
    "### Density\n",
    "Temporal network density: fraction of possible interactions that do exist in the temporal network."
   ]
  },
  {
   "cell_type": "code",
   "execution_count": 56,
   "metadata": {},
   "outputs": [
    {
     "data": {
      "text/plain": [
       "0.06686633244351846"
      ]
     },
     "execution_count": 56,
     "metadata": {},
     "output_type": "execute_result"
    }
   ],
   "source": [
    "g.density()"
   ]
  },
  {
   "cell_type": "markdown",
   "metadata": {},
   "source": [
    "#### Node Density\n",
    "Intersection among the temporal presence of the edge (u, v) and the joint temporal presences of u and v."
   ]
  },
  {
   "cell_type": "code",
   "execution_count": 57,
   "metadata": {},
   "outputs": [
    {
     "data": {
      "text/plain": [
       "0.2295760082730093"
      ]
     },
     "execution_count": 57,
     "metadata": {},
     "output_type": "execute_result"
    }
   ],
   "source": [
    "g.node_density(u)"
   ]
  },
  {
   "cell_type": "markdown",
   "metadata": {},
   "source": [
    "#### Pair Density\n",
    "\n",
    "Intersection among the temporal presence of the edge (u, v) and the joint temporal presences of u and v."
   ]
  },
  {
   "cell_type": "code",
   "execution_count": 58,
   "metadata": {},
   "outputs": [
    {
     "data": {
      "text/plain": [
       "0.375"
      ]
     },
     "execution_count": 58,
     "metadata": {},
     "output_type": "execute_result"
    }
   ],
   "source": [
    "g.pair_density(u, v)"
   ]
  },
  {
   "cell_type": "markdown",
   "metadata": {},
   "source": [
    "#### Snapshot Density\n",
    "\n",
    "Density of a temporal network at time t."
   ]
  },
  {
   "cell_type": "code",
   "execution_count": 23,
   "metadata": {},
   "outputs": [
    {
     "name": "stdout",
     "output_type": "stream",
     "text": [
      "1\t0.06971428571428571\n",
      "2\t0.05886627906976744\n",
      "3\t0.06608969315499606\n",
      "4\t0.04535563715490276\n",
      "5\t0.05640222190571144\n",
      "6\t0.05404055538907202\n",
      "7\t0.1271604938271605\n",
      "8\t0.20473898556090336\n"
     ]
    }
   ],
   "source": [
    "for t in g.temporal_snapshots_ids():\n",
    "    print(f\"{t}\\t{g.snapshot_density(t)}\")"
   ]
  },
  {
   "cell_type": "markdown",
   "metadata": {},
   "source": [
    "### Path analysis\n",
    "\n",
    "Computes the time respecting paths among u and v within [start, stop]"
   ]
  },
  {
   "cell_type": "code",
   "execution_count": 39,
   "metadata": {},
   "outputs": [],
   "source": [
    "import dynetx.algorithms as al\n",
    "paths = al.time_respecting_paths(g, \"GENDRY\", \"GREY_WORM\", start=1, end=5)"
   ]
  },
  {
   "cell_type": "code",
   "execution_count": 40,
   "metadata": {},
   "outputs": [
    {
     "data": {
      "text/plain": [
       "[('GENDRY', 'NED', 1),\n",
       " ('NED', 'ROBERT', 2),\n",
       " ('ROBERT', 'BARRISTAN', 3),\n",
       " ('BARRISTAN', 'GREY_WORM', 4)]"
      ]
     },
     "execution_count": 40,
     "metadata": {},
     "output_type": "execute_result"
    }
   ],
   "source": [
    "p = paths[0] # example of identified paths. Each list element is a tuple of the form (from, to, time)\n",
    "p"
   ]
  },
  {
   "cell_type": "markdown",
   "metadata": {},
   "source": [
    "Moreover, it is possible to compute length and duration of a given path"
   ]
  },
  {
   "cell_type": "code",
   "execution_count": 41,
   "metadata": {},
   "outputs": [
    {
     "data": {
      "text/plain": [
       "(3, 4)"
      ]
     },
     "execution_count": 41,
     "metadata": {},
     "output_type": "execute_result"
    }
   ],
   "source": [
    "al.path_duration(p), al.path_length(p)"
   ]
  },
  {
   "cell_type": "markdown",
   "metadata": {},
   "source": [
    "Among all paths it is possible to identify the most interestin ones using"
   ]
  },
  {
   "cell_type": "code",
   "execution_count": 42,
   "metadata": {},
   "outputs": [],
   "source": [
    "annotated = al.annotate_paths(paths)"
   ]
  },
  {
   "cell_type": "code",
   "execution_count": 44,
   "metadata": {},
   "outputs": [
    {
     "data": {
      "text/plain": [
       "[[('GENDRY', 'NED', 1), ('NED', 'TYRION', 2), ('TYRION', 'GREY_WORM', 5)],\n",
       " [('GENDRY', 'NED', 1), ('NED', 'TYRION', 3), ('TYRION', 'GREY_WORM', 5)],\n",
       " [('GENDRY', 'NED', 1), ('NED', 'TYRION', 4), ('TYRION', 'GREY_WORM', 5)],\n",
       " [('GENDRY', 'VARYS', 1), ('VARYS', 'TYRION', 2), ('TYRION', 'GREY_WORM', 5)],\n",
       " [('GENDRY', 'VARYS', 1), ('VARYS', 'TYRION', 3), ('TYRION', 'GREY_WORM', 5)],\n",
       " [('GENDRY', 'VARYS', 1),\n",
       "  ('VARYS', 'DAENERYS', 4),\n",
       "  ('DAENERYS', 'GREY_WORM', 5)],\n",
       " [('GENDRY', 'VARYS', 1), ('VARYS', 'JORAH', 4), ('JORAH', 'GREY_WORM', 5)],\n",
       " [('GENDRY', 'VARYS', 1),\n",
       "  ('VARYS', 'BARRISTAN', 4),\n",
       "  ('BARRISTAN', 'GREY_WORM', 5)],\n",
       " [('GENDRY', 'VARYS', 1), ('VARYS', 'TYRION', 4), ('TYRION', 'GREY_WORM', 5)],\n",
       " [('GENDRY', 'ARYA', 1), ('ARYA', 'TYRION', 2), ('TYRION', 'GREY_WORM', 5)],\n",
       " [('GENDRY', 'NED', 2), ('NED', 'TYRION', 3), ('TYRION', 'GREY_WORM', 5)],\n",
       " [('GENDRY', 'NED', 2), ('NED', 'TYRION', 4), ('TYRION', 'GREY_WORM', 5)],\n",
       " [('GENDRY', 'TYWIN', 2), ('TYWIN', 'TYRION', 3), ('TYRION', 'GREY_WORM', 5)],\n",
       " [('GENDRY', 'TYWIN', 2), ('TYWIN', 'TYRION', 4), ('TYRION', 'GREY_WORM', 5)],\n",
       " [('GENDRY', 'MOUNTAIN', 2),\n",
       "  ('MOUNTAIN', 'TYRION', 4),\n",
       "  ('TYRION', 'GREY_WORM', 5)],\n",
       " [('GENDRY', 'TYWIN', 3), ('TYWIN', 'TYRION', 4), ('TYRION', 'GREY_WORM', 5)],\n",
       " [('GENDRY', 'TYWIN', 3), ('TYWIN', 'TYRION', 4), ('TYRION', 'GREY_WORM', 5)]]"
      ]
     },
     "execution_count": 44,
     "metadata": {},
     "output_type": "execute_result"
    }
   ],
   "source": [
    "annotated['shortest']"
   ]
  },
  {
   "cell_type": "code",
   "execution_count": 45,
   "metadata": {},
   "outputs": [
    {
     "data": {
      "text/plain": [
       "[[('GENDRY', 'TYWIN', 3), ('TYWIN', 'TYRION', 4), ('TYRION', 'GREY_WORM', 5)],\n",
       " [('GENDRY', 'TYWIN', 3), ('TYWIN', 'TYRION', 4), ('TYRION', 'GREY_WORM', 5)]]"
      ]
     },
     "execution_count": 45,
     "metadata": {},
     "output_type": "execute_result"
    }
   ],
   "source": [
    "annotated['fastest']"
   ]
  },
  {
   "cell_type": "code",
   "execution_count": 46,
   "metadata": {},
   "outputs": [
    {
     "data": {
      "text/plain": [
       "[[('GENDRY', 'TYWIN', 3), ('TYWIN', 'TYRION', 4), ('TYRION', 'GREY_WORM', 5)]]"
      ]
     },
     "execution_count": 46,
     "metadata": {},
     "output_type": "execute_result"
    }
   ],
   "source": [
    "annotated['shortest_fastest']"
   ]
  },
  {
   "cell_type": "code",
   "execution_count": 47,
   "metadata": {},
   "outputs": [
    {
     "data": {
      "text/plain": [
       "[[('GENDRY', 'TYWIN', 3), ('TYWIN', 'TYRION', 4), ('TYRION', 'GREY_WORM', 5)]]"
      ]
     },
     "execution_count": 47,
     "metadata": {},
     "output_type": "execute_result"
    }
   ],
   "source": [
    "annotated['fastest_shortest']"
   ]
  },
  {
   "cell_type": "code",
   "execution_count": 48,
   "metadata": {},
   "outputs": [
    {
     "data": {
      "text/plain": [
       "[[('GENDRY', 'NED', 1),\n",
       "  ('NED', 'ROBERT', 2),\n",
       "  ('ROBERT', 'BARRISTAN', 3),\n",
       "  ('BARRISTAN', 'GREY_WORM', 4)],\n",
       " [('GENDRY', 'NED', 1),\n",
       "  ('NED', 'ROBERT', 2),\n",
       "  ('ROBERT', 'DAENERYS', 3),\n",
       "  ('DAENERYS', 'GREY_WORM', 4)],\n",
       " [('GENDRY', 'NED', 1),\n",
       "  ('NED', 'ROBERT', 2),\n",
       "  ('ROBERT', 'JORAH', 3),\n",
       "  ('JORAH', 'GREY_WORM', 4)]]"
      ]
     },
     "execution_count": 48,
     "metadata": {},
     "output_type": "execute_result"
    }
   ],
   "source": [
    "annotated['foremost']"
   ]
  },
  {
   "cell_type": "code",
   "execution_count": null,
   "metadata": {},
   "outputs": [],
   "source": []
  }
 ],
 "metadata": {
  "kernelspec": {
   "display_name": "Python 3 (ipykernel)",
   "language": "python",
   "name": "python3"
  },
  "language_info": {
   "codemirror_mode": {
    "name": "ipython",
    "version": 3
   },
   "file_extension": ".py",
   "mimetype": "text/x-python",
   "name": "python",
   "nbconvert_exporter": "python",
   "pygments_lexer": "ipython3",
   "version": "3.9.7"
  }
 },
 "nbformat": 4,
 "nbformat_minor": 4
}
